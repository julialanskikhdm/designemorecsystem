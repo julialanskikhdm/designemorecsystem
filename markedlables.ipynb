{
  "nbformat": 4,
  "nbformat_minor": 0,
  "metadata": {
    "colab": {
      "provenance": []
    },
    "kernelspec": {
      "name": "python3",
      "display_name": "Python 3"
    },
    "language_info": {
      "name": "python"
    }
  },
  "cells": [
    {
      "cell_type": "code",
      "source": [
        "from google.colab import drive\n",
        "drive.mount('/content/gdrive', force_remount=True)"
      ],
      "metadata": {
        "colab": {
          "base_uri": "https://localhost:8080/"
        },
        "id": "2q81s0Fkwg-X",
        "outputId": "b80bce55-054b-45ff-959d-29ff29179f30"
      },
      "execution_count": null,
      "outputs": [
        {
          "output_type": "stream",
          "name": "stdout",
          "text": [
            "Mounted at /content/gdrive\n"
          ]
        }
      ]
    },
    {
      "cell_type": "code",
      "execution_count": null,
      "metadata": {
        "id": "oQIuLOD6lb5Q"
      },
      "outputs": [],
      "source": [
        "# переименовываем файлы из папок emotions, чтобы далее было удобно ставить labels\n",
        "\n",
        "import os\n",
        "folder_contraclip = \"/content/gdrive/MyDrive/uni/ml/\"\n",
        "emotions = ['surprised_ER_new_all', 'surprised_ER_all']\n",
        "\n",
        "for folder in emotions:\n",
        "  f = folder.split('_')[0]\n",
        "  enumerate_ph = 0\n",
        "  for filename in os.listdir(os.path.join(folder_contraclip, folder)):\n",
        "    # print(filename)\n",
        "    if os.path.isfile(os.path.join(folder_contraclip, folder, filename)):\n",
        "      enumerate_ph += 1\n",
        "      os.rename(os.path.join(folder_contraclip, folder, filename), os.path.join(folder_contraclip, folder, f'{enumerate_ph}_{f}.jpg'))"
      ]
    },
    {
      "cell_type": "code",
      "source": [
        "# формируем файл .txt, в котором будет: название файла __ label\n",
        "emotions_label={'unhappy': 0, 'happy': 1, 'neutral': 2}\n",
        "folder_contraclip =\"/content/gdrive/MyDrive/uni/ml/ER\"\n",
        "emotions = ['surprised_ER_new_all', 'surprised_ER_all']\n",
        "\n",
        "with open(\"/content/gdrive/MyDrive/uni/ml/ER/prob_labels.txt\", \"w\") as f:\n",
        "    for folder in emotions:\n",
        "      emotion_path = os.path.join(folder_contraclip, folder)\n",
        "      em = folder.split('_')[0]\n",
        "      for filename in os.listdir(emotion_path):\n",
        "        if os.path.isfile(os.path.join(emotion_path, filename)):\n",
        "          if em == 'angry':\n",
        "            f.write(str(filename.split('.')[0]) + ' ' + str(emotions_label.get('unhappy')) + '\\n')\n",
        "          if em == 'sad':\n",
        "            f.write(str(filename.split('.')[0]) + ' ' + str(emotions_label.get('unhappy')) + '\\n')\n",
        "          if em == 'happy':\n",
        "            f.write(str(filename.split('.')[0]) + ' ' + str(emotions_label.get('happy')) + '\\n')\n",
        "          if em == 'surprise':\n",
        "            f.write(str(filename.split('.')[0]) + ' ' + str(emotions_label.get('happy')) + '\\n')\n",
        "          if em == 'neutral':\n",
        "            f.write(str(filename.split('.')[0]) + ' ' + str(emotions_label.get('neutral')) + '\\n')"
      ],
      "metadata": {
        "id": "M0veZZTDlcx5"
      },
      "execution_count": null,
      "outputs": []
    },
    {
      "cell_type": "code",
      "source": [],
      "metadata": {
        "id": "jqSRt7zM1nvQ"
      },
      "execution_count": null,
      "outputs": []
    },
    {
      "cell_type": "code",
      "execution_count": null,
      "metadata": {
        "id": "VzC6bFiq1n5K"
      },
      "outputs": [],
      "source": [
        "# переименовываем файлы из папок emotions, чтобы далее было удобно ставить labels\n",
        "\n",
        "import os\n",
        "folder_contraclip = \"/content/gdrive/MyDrive/uni/ml/ER\"\n",
        "emotions = ['angry_ER_new_all', 'happy_ER_new_all', 'neutral_ER_new_all', 'sad_ER_new_all', 'angry_ER_all', 'happy_ER_all', 'neutral_ER_all', 'sad_ER_all']\n",
        "\n",
        "for folder in emotions:\n",
        "  f = folder.split('_')[0]\n",
        "  enumerate_ph = 0\n",
        "  for filename in os.listdir(os.path.join(folder_contraclip, folder)):\n",
        "    # print(filename)\n",
        "    if os.path.isfile(os.path.join(folder_contraclip, folder, filename)):\n",
        "      enumerate_ph += 1\n",
        "      os.rename(os.path.join(folder_contraclip, folder, filename), os.path.join(folder_contraclip, folder, f'{enumerate_ph}_{f}.jpg'))"
      ]
    },
    {
      "cell_type": "code",
      "source": [
        "# формируем файл .txt, в котором будет: название файла __ label\n",
        "emotions_label={'unhappy': 0, 'happy': 1, 'neutral': 2}\n",
        "emotions = ['angry_ER_new_all', 'happy_ER_new_all', 'neutral_ER_new_all', 'sad_ER_new_all', 'angry_ER_all', 'happy_ER_all', 'neutral_ER_all', 'sad_ER_all']\n",
        "\n",
        "folder_contraclip =\"/content/gdrive/MyDrive/uni/ml/ER\"\n",
        "with open(\"/content/gdrive/MyDrive/uni/ml/ER/labels2.txt\", \"w\") as f:\n",
        "    for folder in emotions:\n",
        "      emotion_path = os.path.join(folder_contraclip, folder)\n",
        "      em = folder.split('_')[0]\n",
        "      for filename in os.listdir(emotion_path):\n",
        "        if os.path.isfile(os.path.join(emotion_path, filename)):\n",
        "          if em == 'angry':\n",
        "            f.write(str(filename.split('.')[0]) + ' ' + str(emotions_label.get('unhappy')) + '\\n')\n",
        "          if em == 'sad':\n",
        "            f.write(str(filename.split('.')[0]) + ' ' + str(emotions_label.get('unhappy')) + '\\n')\n",
        "          if em == 'happy':\n",
        "            f.write(str(filename.split('.')[0]) + ' ' + str(emotions_label.get('happy')) + '\\n')\n",
        "          # if em == 'surprise':\n",
        "          #   f.write(str(filename.split('.')[0]) + ' ' + str(emotions_label.get('happy')) + '\\n')\n",
        "          if em == 'neutral':\n",
        "            f.write(str(filename.split('.')[0]) + ' ' + str(emotions_label.get('neutral')) + '\\n')"
      ],
      "metadata": {
        "id": "E2y0Lzy91n5K"
      },
      "execution_count": null,
      "outputs": []
    }
  ]
}